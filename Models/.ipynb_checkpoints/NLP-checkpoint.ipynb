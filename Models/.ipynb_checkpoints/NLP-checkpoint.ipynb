{
 "cells": [
  {
   "cell_type": "code",
   "execution_count": 1,
   "metadata": {},
   "outputs": [],
   "source": [
    "from sklearn.feature_extraction.text import CountVectorizer, TfidfVectorizer\n",
    "from sklearn.metrics.pairwise import cosine_similarity\n",
    "from sklearn.neighbors import NearestNeighbors\n",
    "import spacy\n"
   ]
  },
  {
   "cell_type": "code",
   "execution_count": 2,
   "metadata": {},
   "outputs": [],
   "source": [
    "nlp = spacy.load(\"en_core_web_md\")"
   ]
  },
  {
   "cell_type": "code",
   "execution_count": null,
   "metadata": {},
   "outputs": [],
   "source": [
    "class NLP:\n",
    "    def __init__(self,df):\n",
    "        self.df = df\n",
    "        self.similar_articles = []\n",
    "        self.tokens = \"\"\n",
    "        self.dtm = \"\"\n",
    "        self.tf = \"\"\n",
    "        self.corpus = \"\" \n",
    "    \n",
    "    def process(self,text,stopwords = None):\n",
    "        '''\n",
    "        takes in a string (text) makes everything to lowercase \n",
    "        then converts the text into an nlp document\n",
    "        then tokenizes/lemmatizes the document\n",
    "        '''\n",
    "        if stopwords is not None:\n",
    "            for word in stopwords:\n",
    "                nlp.vocab[word].is_stop = True\n",
    "\n",
    "\n",
    "        text = text.lower()\n",
    "        text = nlp(text)\n",
    "        tokens = [token.lemma_ for token in text if (token.is_stop != True) and (token.is_punct != True)]\n",
    "        return tokens\n",
    "    \n",
    "    def TFIDF(self,data):\n",
    "        self.tf = TfidfVectorizer(tokenizer=self.process, min_df=0.02, max_df=.98, ngram_range=(1,2))\n",
    "        self.tf.fit(data)\n",
    "        self.dtm = self.tf.transform(data)\n",
    "        return self.dtm\n",
    "    \n",
    "    def DTM_matrix(self):\n",
    "        dtm = pd.DataFrame(self.dtm.todense(),columns = self.tf.get_feature_names())\n",
    "        dtm.head\n",
    "        \n",
    "    def df_to_corpus(self):\n",
    "        '''\n",
    "        this function converts the dataframe and returns a 2d list where each intermidiate list is \n",
    "        each description from the data frame\n",
    "        \n",
    "        '''\n",
    "        pass"
   ]
  }
 ],
 "metadata": {
  "kernelspec": {
   "display_name": "Python 3",
   "language": "python",
   "name": "python3"
  },
  "language_info": {
   "codemirror_mode": {
    "name": "ipython",
    "version": 3
   },
   "file_extension": ".py",
   "mimetype": "text/x-python",
   "name": "python",
   "nbconvert_exporter": "python",
   "pygments_lexer": "ipython3",
   "version": "3.7.3"
  }
 },
 "nbformat": 4,
 "nbformat_minor": 4
}
