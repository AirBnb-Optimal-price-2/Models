{
 "cells": [
  {
   "cell_type": "code",
   "execution_count": 1,
   "metadata": {},
   "outputs": [],
   "source": [
    "# multilayer perceptron imports\n",
    "import seaborn as sns\n",
    "import matplotlib.pyplot as plt\n",
    "import numpy as np\n",
    "import pandas as pd\n",
    "#import pandas_profiling\n",
    "from sklearn.model_selection import train_test_split\n",
    "from tensorflow.keras.models import Sequential\n",
    "from tensorflow.keras.layers import Dense\n",
    "from sklearn.model_selection import GridSearchCV\n",
    "from tensorflow.keras.wrappers.scikit_learn import KerasClassifier"
   ]
  },
  {
   "cell_type": "code",
   "execution_count": 52,
   "metadata": {},
   "outputs": [],
   "source": [
    "# load the cleaned data \n",
    "X = pd.read_csv('airbnb_cleaned_3.csv')"
   ]
  },
  {
   "cell_type": "code",
   "execution_count": 53,
   "metadata": {},
   "outputs": [
    {
     "name": "stdout",
     "output_type": "stream",
     "text": [
      "(22240, 15)\n"
     ]
    },
    {
     "data": {
      "text/html": [
       "<div>\n",
       "<style scoped>\n",
       "    .dataframe tbody tr th:only-of-type {\n",
       "        vertical-align: middle;\n",
       "    }\n",
       "\n",
       "    .dataframe tbody tr th {\n",
       "        vertical-align: top;\n",
       "    }\n",
       "\n",
       "    .dataframe thead th {\n",
       "        text-align: right;\n",
       "    }\n",
       "</style>\n",
       "<table border=\"1\" class=\"dataframe\">\n",
       "  <thead>\n",
       "    <tr style=\"text-align: right;\">\n",
       "      <th></th>\n",
       "      <th>price</th>\n",
       "      <th>cleaning_fee</th>\n",
       "      <th>accommodates</th>\n",
       "      <th>minimum_nights</th>\n",
       "      <th>bedrooms</th>\n",
       "      <th>bathrooms</th>\n",
       "      <th>neighbourhood_group_cleansed</th>\n",
       "      <th>room_type</th>\n",
       "      <th>description</th>\n",
       "      <th>extra_people</th>\n",
       "      <th>Laptop_friendly_workspace</th>\n",
       "      <th>TV</th>\n",
       "      <th>Wifi</th>\n",
       "      <th>Family_kid_friendly</th>\n",
       "      <th>Smoking_allowed</th>\n",
       "    </tr>\n",
       "  </thead>\n",
       "  <tbody>\n",
       "    <tr>\n",
       "      <th>0</th>\n",
       "      <td>60.0</td>\n",
       "      <td>30.0</td>\n",
       "      <td>3</td>\n",
       "      <td>4</td>\n",
       "      <td>1.0</td>\n",
       "      <td>1.0</td>\n",
       "      <td>Mitte</td>\n",
       "      <td>Entire home/apt</td>\n",
       "      <td>Great location!  30 of 75 sq meters. This wood...</td>\n",
       "      <td>28.0</td>\n",
       "      <td>True</td>\n",
       "      <td>True</td>\n",
       "      <td>True</td>\n",
       "      <td>True</td>\n",
       "      <td>False</td>\n",
       "    </tr>\n",
       "    <tr>\n",
       "      <th>1</th>\n",
       "      <td>17.0</td>\n",
       "      <td>0.0</td>\n",
       "      <td>2</td>\n",
       "      <td>2</td>\n",
       "      <td>1.0</td>\n",
       "      <td>1.0</td>\n",
       "      <td>Pankow</td>\n",
       "      <td>Private room</td>\n",
       "      <td>In the summertime we are spending most of our ...</td>\n",
       "      <td>0.0</td>\n",
       "      <td>True</td>\n",
       "      <td>False</td>\n",
       "      <td>True</td>\n",
       "      <td>False</td>\n",
       "      <td>False</td>\n",
       "    </tr>\n",
       "    <tr>\n",
       "      <th>2</th>\n",
       "      <td>90.0</td>\n",
       "      <td>50.0</td>\n",
       "      <td>4</td>\n",
       "      <td>62</td>\n",
       "      <td>1.0</td>\n",
       "      <td>1.0</td>\n",
       "      <td>Pankow</td>\n",
       "      <td>Entire home/apt</td>\n",
       "      <td>This beautiful first floor apartment  is situa...</td>\n",
       "      <td>20.0</td>\n",
       "      <td>True</td>\n",
       "      <td>False</td>\n",
       "      <td>True</td>\n",
       "      <td>True</td>\n",
       "      <td>False</td>\n",
       "    </tr>\n",
       "    <tr>\n",
       "      <th>3</th>\n",
       "      <td>26.0</td>\n",
       "      <td>30.0</td>\n",
       "      <td>2</td>\n",
       "      <td>5</td>\n",
       "      <td>1.0</td>\n",
       "      <td>1.0</td>\n",
       "      <td>Tempelhof - Schöneberg</td>\n",
       "      <td>Private room</td>\n",
       "      <td>First of all: I prefer short-notice bookings. ...</td>\n",
       "      <td>18.0</td>\n",
       "      <td>True</td>\n",
       "      <td>False</td>\n",
       "      <td>True</td>\n",
       "      <td>False</td>\n",
       "      <td>False</td>\n",
       "    </tr>\n",
       "    <tr>\n",
       "      <th>4</th>\n",
       "      <td>42.0</td>\n",
       "      <td>0.0</td>\n",
       "      <td>2</td>\n",
       "      <td>2</td>\n",
       "      <td>1.0</td>\n",
       "      <td>1.0</td>\n",
       "      <td>Pankow</td>\n",
       "      <td>Private room</td>\n",
       "      <td>Cozy and large room in the beautiful district ...</td>\n",
       "      <td>24.0</td>\n",
       "      <td>True</td>\n",
       "      <td>False</td>\n",
       "      <td>True</td>\n",
       "      <td>True</td>\n",
       "      <td>False</td>\n",
       "    </tr>\n",
       "  </tbody>\n",
       "</table>\n",
       "</div>"
      ],
      "text/plain": [
       "   price  cleaning_fee  accommodates  minimum_nights  bedrooms  bathrooms  \\\n",
       "0   60.0          30.0             3               4       1.0        1.0   \n",
       "1   17.0           0.0             2               2       1.0        1.0   \n",
       "2   90.0          50.0             4              62       1.0        1.0   \n",
       "3   26.0          30.0             2               5       1.0        1.0   \n",
       "4   42.0           0.0             2               2       1.0        1.0   \n",
       "\n",
       "  neighbourhood_group_cleansed        room_type  \\\n",
       "0                        Mitte  Entire home/apt   \n",
       "1                       Pankow     Private room   \n",
       "2                       Pankow  Entire home/apt   \n",
       "3       Tempelhof - Schöneberg     Private room   \n",
       "4                       Pankow     Private room   \n",
       "\n",
       "                                         description  extra_people  \\\n",
       "0  Great location!  30 of 75 sq meters. This wood...          28.0   \n",
       "1  In the summertime we are spending most of our ...           0.0   \n",
       "2  This beautiful first floor apartment  is situa...          20.0   \n",
       "3  First of all: I prefer short-notice bookings. ...          18.0   \n",
       "4  Cozy and large room in the beautiful district ...          24.0   \n",
       "\n",
       "   Laptop_friendly_workspace     TV  Wifi  Family_kid_friendly  \\\n",
       "0                       True   True  True                 True   \n",
       "1                       True  False  True                False   \n",
       "2                       True  False  True                 True   \n",
       "3                       True  False  True                False   \n",
       "4                       True  False  True                 True   \n",
       "\n",
       "   Smoking_allowed  \n",
       "0            False  \n",
       "1            False  \n",
       "2            False  \n",
       "3            False  \n",
       "4            False  "
      ]
     },
     "execution_count": 53,
     "metadata": {},
     "output_type": "execute_result"
    }
   ],
   "source": [
    "X.drop(columns = ['Unnamed: 0','Host_greets_you'],inplace = True)\n",
    "print(X.shape)\n",
    "X.head()"
   ]
  },
  {
   "cell_type": "code",
   "execution_count": 54,
   "metadata": {},
   "outputs": [],
   "source": [
    "# explore the clean data (describe and profile report)\n",
    "#X.profile_report()"
   ]
  },
  {
   "cell_type": "code",
   "execution_count": 55,
   "metadata": {},
   "outputs": [],
   "source": [
    "X.drop(X[X.minimum_nights > 365].index,inplace = True)"
   ]
  },
  {
   "cell_type": "code",
   "execution_count": 56,
   "metadata": {},
   "outputs": [],
   "source": [
    "# encoding Neighborhoods as values 1-12\n",
    "# Mitte = 1\n",
    "# Friedrichshain-Kreuzberg = 2\n",
    "# Pankow = 3                      \n",
    "# Neukölln = 4                \n",
    "# Charlottenburg-Wilm. = 5\n",
    "# Tempelhof - Schöneberg = 6\n",
    "# Lichtenberg = 7\n",
    "# Treptow - Köpenick = 8\n",
    "# Steglitz - Zehlendorf = 9\n",
    "# Reinickendorf = 10\n",
    "# Marzahn - Hellersdorf = 11\n",
    "# Spandau = 12\n",
    "X.replace({'Mitte':1,'Friedrichshain-Kreuzberg':2,'Pankow':3,'Neukölln':4,'Charlottenburg-Wilm.':5,'Tempelhof - Schöneberg':6,'Lichtenberg':7,'Treptow - Köpenick':8,'Steglitz - Zehlendorf':9,'Reinickendorf':10,'Marzahn - Hellersdorf':11,'Spandau':12},inplace = True)\n",
    "\n",
    "# encoding room types as values \n",
    "# 15 Entire home/apt\n",
    "# 14 Private room\n",
    "# 36 shared room\n",
    "X.replace({'Entire home/apt':15,'Private room':14,'Shared room':36},inplace = True)\n",
    "\n",
    "# setting true and false values to 1 or 0\n",
    "X.replace({True:1,False:0},inplace = True)"
   ]
  },
  {
   "cell_type": "code",
   "execution_count": 57,
   "metadata": {},
   "outputs": [
    {
     "data": {
      "text/html": [
       "<div>\n",
       "<style scoped>\n",
       "    .dataframe tbody tr th:only-of-type {\n",
       "        vertical-align: middle;\n",
       "    }\n",
       "\n",
       "    .dataframe tbody tr th {\n",
       "        vertical-align: top;\n",
       "    }\n",
       "\n",
       "    .dataframe thead th {\n",
       "        text-align: right;\n",
       "    }\n",
       "</style>\n",
       "<table border=\"1\" class=\"dataframe\">\n",
       "  <thead>\n",
       "    <tr style=\"text-align: right;\">\n",
       "      <th></th>\n",
       "      <th>price</th>\n",
       "      <th>cleaning_fee</th>\n",
       "      <th>accommodates</th>\n",
       "      <th>minimum_nights</th>\n",
       "      <th>bedrooms</th>\n",
       "      <th>bathrooms</th>\n",
       "      <th>neighbourhood_group_cleansed</th>\n",
       "      <th>room_type</th>\n",
       "      <th>description</th>\n",
       "      <th>extra_people</th>\n",
       "      <th>Laptop_friendly_workspace</th>\n",
       "      <th>TV</th>\n",
       "      <th>Wifi</th>\n",
       "      <th>Family_kid_friendly</th>\n",
       "      <th>Smoking_allowed</th>\n",
       "    </tr>\n",
       "  </thead>\n",
       "  <tbody>\n",
       "    <tr>\n",
       "      <th>0</th>\n",
       "      <td>60.0</td>\n",
       "      <td>30.0</td>\n",
       "      <td>3</td>\n",
       "      <td>4</td>\n",
       "      <td>1.0</td>\n",
       "      <td>1.0</td>\n",
       "      <td>1</td>\n",
       "      <td>15</td>\n",
       "      <td>Great location!  30 of 75 sq meters. This wood...</td>\n",
       "      <td>28.0</td>\n",
       "      <td>1</td>\n",
       "      <td>1</td>\n",
       "      <td>1</td>\n",
       "      <td>1</td>\n",
       "      <td>0</td>\n",
       "    </tr>\n",
       "    <tr>\n",
       "      <th>1</th>\n",
       "      <td>17.0</td>\n",
       "      <td>0.0</td>\n",
       "      <td>2</td>\n",
       "      <td>2</td>\n",
       "      <td>1.0</td>\n",
       "      <td>1.0</td>\n",
       "      <td>3</td>\n",
       "      <td>14</td>\n",
       "      <td>In the summertime we are spending most of our ...</td>\n",
       "      <td>0.0</td>\n",
       "      <td>1</td>\n",
       "      <td>0</td>\n",
       "      <td>1</td>\n",
       "      <td>0</td>\n",
       "      <td>0</td>\n",
       "    </tr>\n",
       "    <tr>\n",
       "      <th>2</th>\n",
       "      <td>90.0</td>\n",
       "      <td>50.0</td>\n",
       "      <td>4</td>\n",
       "      <td>62</td>\n",
       "      <td>1.0</td>\n",
       "      <td>1.0</td>\n",
       "      <td>3</td>\n",
       "      <td>15</td>\n",
       "      <td>This beautiful first floor apartment  is situa...</td>\n",
       "      <td>20.0</td>\n",
       "      <td>1</td>\n",
       "      <td>0</td>\n",
       "      <td>1</td>\n",
       "      <td>1</td>\n",
       "      <td>0</td>\n",
       "    </tr>\n",
       "    <tr>\n",
       "      <th>3</th>\n",
       "      <td>26.0</td>\n",
       "      <td>30.0</td>\n",
       "      <td>2</td>\n",
       "      <td>5</td>\n",
       "      <td>1.0</td>\n",
       "      <td>1.0</td>\n",
       "      <td>6</td>\n",
       "      <td>14</td>\n",
       "      <td>First of all: I prefer short-notice bookings. ...</td>\n",
       "      <td>18.0</td>\n",
       "      <td>1</td>\n",
       "      <td>0</td>\n",
       "      <td>1</td>\n",
       "      <td>0</td>\n",
       "      <td>0</td>\n",
       "    </tr>\n",
       "    <tr>\n",
       "      <th>4</th>\n",
       "      <td>42.0</td>\n",
       "      <td>0.0</td>\n",
       "      <td>2</td>\n",
       "      <td>2</td>\n",
       "      <td>1.0</td>\n",
       "      <td>1.0</td>\n",
       "      <td>3</td>\n",
       "      <td>14</td>\n",
       "      <td>Cozy and large room in the beautiful district ...</td>\n",
       "      <td>24.0</td>\n",
       "      <td>1</td>\n",
       "      <td>0</td>\n",
       "      <td>1</td>\n",
       "      <td>1</td>\n",
       "      <td>0</td>\n",
       "    </tr>\n",
       "  </tbody>\n",
       "</table>\n",
       "</div>"
      ],
      "text/plain": [
       "   price  cleaning_fee  accommodates  minimum_nights  bedrooms  bathrooms  \\\n",
       "0   60.0          30.0             3               4       1.0        1.0   \n",
       "1   17.0           0.0             2               2       1.0        1.0   \n",
       "2   90.0          50.0             4              62       1.0        1.0   \n",
       "3   26.0          30.0             2               5       1.0        1.0   \n",
       "4   42.0           0.0             2               2       1.0        1.0   \n",
       "\n",
       "   neighbourhood_group_cleansed  room_type  \\\n",
       "0                             1         15   \n",
       "1                             3         14   \n",
       "2                             3         15   \n",
       "3                             6         14   \n",
       "4                             3         14   \n",
       "\n",
       "                                         description  extra_people  \\\n",
       "0  Great location!  30 of 75 sq meters. This wood...          28.0   \n",
       "1  In the summertime we are spending most of our ...           0.0   \n",
       "2  This beautiful first floor apartment  is situa...          20.0   \n",
       "3  First of all: I prefer short-notice bookings. ...          18.0   \n",
       "4  Cozy and large room in the beautiful district ...          24.0   \n",
       "\n",
       "   Laptop_friendly_workspace  TV  Wifi  Family_kid_friendly  Smoking_allowed  \n",
       "0                          1   1     1                    1                0  \n",
       "1                          1   0     1                    0                0  \n",
       "2                          1   0     1                    1                0  \n",
       "3                          1   0     1                    0                0  \n",
       "4                          1   0     1                    1                0  "
      ]
     },
     "execution_count": 57,
     "metadata": {},
     "output_type": "execute_result"
    }
   ],
   "source": [
    "X.head()"
   ]
  },
  {
   "cell_type": "code",
   "execution_count": 58,
   "metadata": {},
   "outputs": [],
   "source": [
    "y = X['price']\n",
    "X.drop(columns = 'price',inplace = True)\n",
    "text = X.copy()\n",
    "X.drop(columns = 'description',inplace = True)"
   ]
  },
  {
   "cell_type": "code",
   "execution_count": 59,
   "metadata": {},
   "outputs": [
    {
     "data": {
      "text/html": [
       "<div>\n",
       "<style scoped>\n",
       "    .dataframe tbody tr th:only-of-type {\n",
       "        vertical-align: middle;\n",
       "    }\n",
       "\n",
       "    .dataframe tbody tr th {\n",
       "        vertical-align: top;\n",
       "    }\n",
       "\n",
       "    .dataframe thead th {\n",
       "        text-align: right;\n",
       "    }\n",
       "</style>\n",
       "<table border=\"1\" class=\"dataframe\">\n",
       "  <thead>\n",
       "    <tr style=\"text-align: right;\">\n",
       "      <th></th>\n",
       "      <th>cleaning_fee</th>\n",
       "      <th>accommodates</th>\n",
       "      <th>minimum_nights</th>\n",
       "      <th>bedrooms</th>\n",
       "      <th>bathrooms</th>\n",
       "      <th>neighbourhood_group_cleansed</th>\n",
       "      <th>room_type</th>\n",
       "      <th>extra_people</th>\n",
       "      <th>Laptop_friendly_workspace</th>\n",
       "      <th>TV</th>\n",
       "      <th>Wifi</th>\n",
       "      <th>Family_kid_friendly</th>\n",
       "      <th>Smoking_allowed</th>\n",
       "    </tr>\n",
       "  </thead>\n",
       "  <tbody>\n",
       "    <tr>\n",
       "      <th>0</th>\n",
       "      <td>30.0</td>\n",
       "      <td>3</td>\n",
       "      <td>4</td>\n",
       "      <td>1.0</td>\n",
       "      <td>1.0</td>\n",
       "      <td>1</td>\n",
       "      <td>15</td>\n",
       "      <td>28.0</td>\n",
       "      <td>1</td>\n",
       "      <td>1</td>\n",
       "      <td>1</td>\n",
       "      <td>1</td>\n",
       "      <td>0</td>\n",
       "    </tr>\n",
       "    <tr>\n",
       "      <th>1</th>\n",
       "      <td>0.0</td>\n",
       "      <td>2</td>\n",
       "      <td>2</td>\n",
       "      <td>1.0</td>\n",
       "      <td>1.0</td>\n",
       "      <td>3</td>\n",
       "      <td>14</td>\n",
       "      <td>0.0</td>\n",
       "      <td>1</td>\n",
       "      <td>0</td>\n",
       "      <td>1</td>\n",
       "      <td>0</td>\n",
       "      <td>0</td>\n",
       "    </tr>\n",
       "    <tr>\n",
       "      <th>2</th>\n",
       "      <td>50.0</td>\n",
       "      <td>4</td>\n",
       "      <td>62</td>\n",
       "      <td>1.0</td>\n",
       "      <td>1.0</td>\n",
       "      <td>3</td>\n",
       "      <td>15</td>\n",
       "      <td>20.0</td>\n",
       "      <td>1</td>\n",
       "      <td>0</td>\n",
       "      <td>1</td>\n",
       "      <td>1</td>\n",
       "      <td>0</td>\n",
       "    </tr>\n",
       "    <tr>\n",
       "      <th>3</th>\n",
       "      <td>30.0</td>\n",
       "      <td>2</td>\n",
       "      <td>5</td>\n",
       "      <td>1.0</td>\n",
       "      <td>1.0</td>\n",
       "      <td>6</td>\n",
       "      <td>14</td>\n",
       "      <td>18.0</td>\n",
       "      <td>1</td>\n",
       "      <td>0</td>\n",
       "      <td>1</td>\n",
       "      <td>0</td>\n",
       "      <td>0</td>\n",
       "    </tr>\n",
       "    <tr>\n",
       "      <th>4</th>\n",
       "      <td>0.0</td>\n",
       "      <td>2</td>\n",
       "      <td>2</td>\n",
       "      <td>1.0</td>\n",
       "      <td>1.0</td>\n",
       "      <td>3</td>\n",
       "      <td>14</td>\n",
       "      <td>24.0</td>\n",
       "      <td>1</td>\n",
       "      <td>0</td>\n",
       "      <td>1</td>\n",
       "      <td>1</td>\n",
       "      <td>0</td>\n",
       "    </tr>\n",
       "  </tbody>\n",
       "</table>\n",
       "</div>"
      ],
      "text/plain": [
       "   cleaning_fee  accommodates  minimum_nights  bedrooms  bathrooms  \\\n",
       "0          30.0             3               4       1.0        1.0   \n",
       "1           0.0             2               2       1.0        1.0   \n",
       "2          50.0             4              62       1.0        1.0   \n",
       "3          30.0             2               5       1.0        1.0   \n",
       "4           0.0             2               2       1.0        1.0   \n",
       "\n",
       "   neighbourhood_group_cleansed  room_type  extra_people  \\\n",
       "0                             1         15          28.0   \n",
       "1                             3         14           0.0   \n",
       "2                             3         15          20.0   \n",
       "3                             6         14          18.0   \n",
       "4                             3         14          24.0   \n",
       "\n",
       "   Laptop_friendly_workspace  TV  Wifi  Family_kid_friendly  Smoking_allowed  \n",
       "0                          1   1     1                    1                0  \n",
       "1                          1   0     1                    0                0  \n",
       "2                          1   0     1                    1                0  \n",
       "3                          1   0     1                    0                0  \n",
       "4                          1   0     1                    1                0  "
      ]
     },
     "execution_count": 59,
     "metadata": {},
     "output_type": "execute_result"
    }
   ],
   "source": [
    "X.head()"
   ]
  },
  {
   "cell_type": "code",
   "execution_count": 60,
   "metadata": {},
   "outputs": [
    {
     "data": {
      "text/plain": [
       "0    60.0\n",
       "1    17.0\n",
       "2    90.0\n",
       "3    26.0\n",
       "4    42.0\n",
       "Name: price, dtype: float64"
      ]
     },
     "execution_count": 60,
     "metadata": {},
     "output_type": "execute_result"
    }
   ],
   "source": [
    "y.head()"
   ]
  },
  {
   "cell_type": "code",
   "execution_count": 61,
   "metadata": {},
   "outputs": [],
   "source": [
    "# split into train and test data\n",
    "X_train, X_test, y_train, y_test = train_test_split(X,y,test_size = 0.2,random_state = 42)"
   ]
  },
  {
   "cell_type": "code",
   "execution_count": 62,
   "metadata": {},
   "outputs": [],
   "source": [
    "X_train = X_train.values\n",
    "y_train = y_train.values\n",
    "X_test = X_test.values\n",
    "y_test = y_test.values"
   ]
  },
  {
   "cell_type": "code",
   "execution_count": 63,
   "metadata": {},
   "outputs": [],
   "source": [
    "# normalize data\n",
    "# run only once\n",
    "#X_train = X_train / np.amax(X_train, axis=0)\n",
    "#X_test = X_test / np.amax(X_test, axis=0)\n",
    "#y_train = y_train / 100\n",
    "#y_test = y_test / 100"
   ]
  },
  {
   "cell_type": "code",
   "execution_count": 64,
   "metadata": {},
   "outputs": [
    {
     "name": "stdout",
     "output_type": "stream",
     "text": [
      "(17785, 13)\n",
      "(4447, 13)\n",
      "(17785,)\n",
      "(4447,)\n"
     ]
    }
   ],
   "source": [
    "print(X_train.shape)\n",
    "print(X_test.shape)\n",
    "print(y_train.shape)\n",
    "print(y_test.shape)"
   ]
  },
  {
   "cell_type": "code",
   "execution_count": 65,
   "metadata": {},
   "outputs": [
    {
     "name": "stdout",
     "output_type": "stream",
     "text": [
      "Model: \"sequential_1\"\n",
      "_________________________________________________________________\n",
      "Layer (type)                 Output Shape              Param #   \n",
      "=================================================================\n",
      "dense_4 (Dense)              (None, 18)                252       \n",
      "_________________________________________________________________\n",
      "dense_5 (Dense)              (None, 12)                228       \n",
      "_________________________________________________________________\n",
      "dense_6 (Dense)              (None, 4)                 52        \n",
      "_________________________________________________________________\n",
      "dense_7 (Dense)              (None, 1)                 5         \n",
      "=================================================================\n",
      "Total params: 537\n",
      "Trainable params: 537\n",
      "Non-trainable params: 0\n",
      "_________________________________________________________________\n"
     ]
    }
   ],
   "source": [
    "#set up model architecture\n",
    "def create_model():\n",
    "    model = Sequential()\n",
    "    model.add(Dense(18,input_shape = (X_train.shape[1],),activation = 'relu'))\n",
    "    model.add(Dense(12,activation = 'relu'))\n",
    "    model.add(Dense(4,activation = 'relu'))\n",
    "    model.add(Dense(1))\n",
    "    model.compile(loss = 'mae',optimizer = 'adam')\n",
    "    \n",
    "    return model\n",
    "model = create_model()\n",
    "model.summary()"
   ]
  },
  {
   "cell_type": "code",
   "execution_count": 69,
   "metadata": {},
   "outputs": [
    {
     "name": "stdout",
     "output_type": "stream",
     "text": [
      "Train on 17785 samples, validate on 4447 samples\n",
      "Epoch 1/10\n",
      "17785/17785 [==============================] - 3s 174us/sample - loss: 19.6039 - val_loss: 18.9896\n",
      "Epoch 2/10\n",
      "17785/17785 [==============================] - 3s 196us/sample - loss: 19.5996 - val_loss: 19.0451\n",
      "Epoch 3/10\n",
      "17785/17785 [==============================] - 3s 170us/sample - loss: 19.5485 - val_loss: 18.9389\n",
      "Epoch 4/10\n",
      "17785/17785 [==============================] - 3s 192us/sample - loss: 19.5371 - val_loss: 18.9487\n",
      "Epoch 5/10\n",
      "17785/17785 [==============================] - 3s 194us/sample - loss: 19.5273 - val_loss: 18.9169\n",
      "Epoch 6/10\n",
      "17785/17785 [==============================] - 3s 183us/sample - loss: 19.5012 - val_loss: 18.9273\n",
      "Epoch 7/10\n",
      "17785/17785 [==============================] - 3s 168us/sample - loss: 19.4952 - val_loss: 18.8578\n",
      "Epoch 8/10\n",
      "17785/17785 [==============================] - 3s 191us/sample - loss: 19.4924 - val_loss: 18.9379\n",
      "Epoch 9/10\n",
      "17785/17785 [==============================] - 2s 130us/sample - loss: 19.4438 - val_loss: 18.9931\n",
      "Epoch 10/10\n",
      "17785/17785 [==============================] - 3s 144us/sample - loss: 19.4519 - val_loss: 18.8374\n"
     ]
    },
    {
     "data": {
      "text/plain": [
       "<tensorflow.python.keras.callbacks.History at 0x1d5056062b0>"
      ]
     },
     "execution_count": 69,
     "metadata": {},
     "output_type": "execute_result"
    }
   ],
   "source": [
    "# fit model\n",
    "model.fit(X_train,y_train,\n",
    "         epochs = 10,\n",
    "         batch_size = 24,\n",
    "         validation_data = (X_test,y_test),\n",
    "         verbose = True,\n",
    "         use_multiprocessing=False)"
   ]
  },
  {
   "cell_type": "code",
   "execution_count": 70,
   "metadata": {},
   "outputs": [
    {
     "data": {
      "text/plain": [
       "19.32797574206018"
      ]
     },
     "execution_count": 70,
     "metadata": {},
     "output_type": "execute_result"
    }
   ],
   "source": [
    "# evaluate model\n",
    "score = model.evaluate(X_train,y_train,verbose = False)\n",
    "score"
   ]
  },
  {
   "cell_type": "code",
   "execution_count": 71,
   "metadata": {},
   "outputs": [
    {
     "data": {
      "text/plain": [
       "array([[ 49.77434 ],\n",
       "       [157.17906 ],\n",
       "       [ 90.87505 ],\n",
       "       [ 43.856514],\n",
       "       [108.7303  ],\n",
       "       [ 37.054436],\n",
       "       [ 46.590122],\n",
       "       [ 26.346895],\n",
       "       [106.27014 ],\n",
       "       [ 58.56659 ]], dtype=float32)"
      ]
     },
     "execution_count": 71,
     "metadata": {},
     "output_type": "execute_result"
    }
   ],
   "source": [
    "# test predictions\n",
    "z = [30.0,3,4,1,1,1,15,28,1,1,1,1,0]\n",
    "pred = model.predict(X_test)\n",
    "pred[:10]\n"
   ]
  },
  {
   "cell_type": "code",
   "execution_count": 78,
   "metadata": {},
   "outputs": [
    {
     "name": "stdout",
     "output_type": "stream",
     "text": [
      "Requirement already satisfied: h5py in d:\\documents\\anaconda\\lib\\site-packages (2.9.0)\n",
      "Requirement already satisfied: six in c:\\users\\gabe5\\appdata\\roaming\\python\\python37\\site-packages (from h5py) (1.12.0)\n",
      "Requirement already satisfied: numpy>=1.7 in d:\\documents\\anaconda\\lib\\site-packages (from h5py) (1.16.4)\n"
     ]
    }
   ],
   "source": [
    "!pip install h5py"
   ]
  },
  {
   "cell_type": "code",
   "execution_count": 79,
   "metadata": {},
   "outputs": [],
   "source": [
    "# saving the model\n",
    "#import _pickle as cPickle\n",
    "import dill\n",
    "from sklearn.externals import joblib\n",
    "\n",
    "\n",
    "'''filename = open('mmodel2.pkl','wb')\n",
    "pickle.dump(model,filename)\n",
    "filename.close()'''\n",
    "\n",
    "#with open('model_pickled.pkl','wb') as file:\n",
    "    #dill.dump(model,file)\n",
    "\n",
    "path = \"D:\\\\Documents\\\\Build week projects\\\\Airbnb\\\\Models\"\n",
    "model.save('model.h5')\n",
    "\n"
   ]
  },
  {
   "cell_type": "code",
   "execution_count": null,
   "metadata": {},
   "outputs": [],
   "source": []
  },
  {
   "cell_type": "code",
   "execution_count": 86,
   "metadata": {},
   "outputs": [],
   "source": [
    "from tensorflow.keras.models import load_model\n",
    "m = load_model('model.h5')"
   ]
  },
  {
   "cell_type": "code",
   "execution_count": null,
   "metadata": {},
   "outputs": [],
   "source": []
  },
  {
   "cell_type": "code",
   "execution_count": 87,
   "metadata": {},
   "outputs": [
    {
     "data": {
      "text/plain": [
       "array([[74.08036]], dtype=float32)"
      ]
     },
     "execution_count": 87,
     "metadata": {},
     "output_type": "execute_result"
    }
   ],
   "source": [
    "m.predict([z])"
   ]
  },
  {
   "cell_type": "code",
   "execution_count": null,
   "metadata": {},
   "outputs": [],
   "source": []
  }
 ],
 "metadata": {
  "kernelspec": {
   "display_name": "Python 3",
   "language": "python",
   "name": "python3"
  },
  "language_info": {
   "codemirror_mode": {
    "name": "ipython",
    "version": 3
   },
   "file_extension": ".py",
   "mimetype": "text/x-python",
   "name": "python",
   "nbconvert_exporter": "python",
   "pygments_lexer": "ipython3",
   "version": "3.7.3"
  }
 },
 "nbformat": 4,
 "nbformat_minor": 4
}
